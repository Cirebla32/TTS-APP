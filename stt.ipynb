{
 "cells": [
  {
   "cell_type": "code",
   "execution_count": 1,
   "metadata": {},
   "outputs": [
    {
     "name": "stdout",
     "output_type": "stream",
     "text": [
      "Sorry.. run again...\n"
     ]
    }
   ],
   "source": [
    "import speech_recognition as sr\n",
    "import sounddevice\n",
    "import keyboard\n",
    "from pynput.keyboard import KeyCode, Controller, Listener\n",
    "\n",
    "keyboard.on_press_key(\"q\", lambda _:quit())\n",
    "with Listener(on_press=print_key) as listener:\n",
    "            listener.join()\n",
    "\n",
    "#Initialiser la classe Recognizer (pour reconnaître la parole)\n",
    "r = sr.Recognizer()\n",
    "sr.\n",
    "# Lecture du fichier audio comme source\n",
    "# écouter le fichier audio et le stocker dans la variable audio_text\n",
    "with sr.Microphone() as source:\n",
    "    r.pause_threshold\n",
    "    r.record(source=source)\n",
    "    r.adjust_for_ambient_noise(source)\n",
    "    audio_text = r.listen(source, phrase_time_limit=2)\n",
    "# recoginize_() La méthode générera une erreur de requête si l'API est inaccessible, utilisant donc la gestion des exceptions\n",
    "    try:\n",
    "        # utilisation de google speech recognition\n",
    "        text = r.recognize_google(audio_text, language = 'fr-FR')\n",
    "        with open('data/stt_result.txt', 'w') as f:\n",
    "            f.write(text)\n",
    "        print('Convertion de l\\'audio en texte ...')\n",
    "        print(text)\n",
    "        \n",
    "    except:\n",
    "        print('Sorry.. run again...')"
   ]
  }
 ],
 "metadata": {
  "kernelspec": {
   "display_name": "djangodev",
   "language": "python",
   "name": "python3"
  },
  "language_info": {
   "codemirror_mode": {
    "name": "ipython",
    "version": 3
   },
   "file_extension": ".py",
   "mimetype": "text/x-python",
   "name": "python",
   "nbconvert_exporter": "python",
   "pygments_lexer": "ipython3",
   "version": "3.11.4"
  }
 },
 "nbformat": 4,
 "nbformat_minor": 2
}
